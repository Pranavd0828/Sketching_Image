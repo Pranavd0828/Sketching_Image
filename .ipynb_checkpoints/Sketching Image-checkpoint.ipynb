{
 "cells": [
  {
   "cell_type": "code",
   "execution_count": null,
   "metadata": {},
   "outputs": [],
   "source": [
    "import cv2\n",
    "import sys"
   ]
  },
  {
   "cell_type": "code",
   "execution_count": null,
   "metadata": {},
   "outputs": [],
   "source": [
    "image = cv2.imread(\"Friends.jpg\")"
   ]
  },
  { 
   "cell_type": "code",
   "execution_count": null,
   "metadata": {},
   "outputs": [],
   "source": [
    "PencilSketch = cv2.cvtColor(image, cv2.COLOR_BGR2GRAY)"
   ]
  },
  {
   "cell_type": "code",
   "execution_count": null,
   "metadata": {},
   "outputs": [],
   "source": [
    "PencilSketch_ = 255 - PencilSketch\n",
    "PencilSketch_ = cv2.GaussianBlur(PencilSketch_, (61,61), 0)\n",
    "output = cv2.divide(PencilSketch, 255-PencilSketch_, scale = 256.0)"
   ]
  },
  {
   "cell_type": "code",
   "execution_count": null,
   "metadata": {},
   "outputs": [],
   "source": [
    "cv2.namedWindow(\"image\", cv2.WINDOW_AUTOSIZE)\n",
    "cv2.namedWindow(\"pencilsketch\", cv2.WINDOW_AUTOSIZE)\n",
    "cv2.imshow(\"image\", image)\n",
    "cv2.imshow(\"pencilsketch\", output)\n",
    "cv2.imwrite(\"Output.jpg\",output)\n",
    "cv2.waitKey(0)\n",
    "cv2.destroyAllWindows()"
   ]
  }
 ],
 "metadata": {
  "kernelspec": {
   "display_name": "Python 3",
   "language": "python",
   "name": "python3"
  },
  "language_info": {
   "codemirror_mode": {
    "name": "ipython",
    "version": 3
   },
   "file_extension": ".py",
   "mimetype": "text/x-python",
   "name": "python",
   "nbconvert_exporter": "python",
   "pygments_lexer": "ipython3",
   "version": "3.7.7"
  }
 },
 "nbformat": 4,
 "nbformat_minor": 4
}
